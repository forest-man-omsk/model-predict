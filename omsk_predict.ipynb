{
 "cells": [
  {
   "cell_type": "code",
   "execution_count": 3,
   "id": "d325775a",
   "metadata": {},
   "outputs": [],
   "source": [
    "from pathlib import Path"
   ]
  },
  {
   "cell_type": "code",
   "execution_count": 4,
   "id": "b1e24da7",
   "metadata": {},
   "outputs": [],
   "source": [
    "sample = Path('crop')\n",
    "labels = Path('result/labels')"
   ]
  },
  {
   "cell_type": "code",
   "execution_count": 7,
   "id": "16bd6dba",
   "metadata": {},
   "outputs": [
    {
     "data": {
      "text/plain": [
       "'/home/astra/projects/hackathon/omsk_chempionat/model-predict'"
      ]
     },
     "execution_count": 7,
     "metadata": {},
     "output_type": "execute_result"
    }
   ],
   "source": [
    "str(Path.cwd())"
   ]
  },
  {
   "cell_type": "code",
   "execution_count": 17,
   "id": "2c9c6d31",
   "metadata": {},
   "outputs": [
    {
     "name": "stdout",
     "output_type": "stream",
     "text": [
      "\u001b[34m\u001b[1mdetect: \u001b[0mweights=['../best.pt'], source=crop/, data=yolov5/data/coco128.yaml, imgsz=[256, 256], conf_thres=0.25, iou_thres=0.45, max_det=1000, device=, view_img=False, save_txt=True, save_conf=False, save_crop=False, nosave=False, classes=None, agnostic_nms=False, augment=False, visualize=False, update=False, project=result/, name=exp, exist_ok=False, line_thickness=3, hide_labels=False, hide_conf=False, half=False, dnn=False, vid_stride=1\n",
      "YOLOv5 🚀 v6.2-203-g6371de8 Python-3.10.0 torch-1.12.1+cu102 CPU\n",
      "\n",
      "Fusing layers... \n",
      "[W NNPACK.cpp:51] Could not initialize NNPACK! Reason: Unsupported hardware.\n",
      "Model summary: 212 layers, 20852934 parameters, 0 gradients, 47.9 GFLOPs\n",
      "Traceback (most recent call last):\n",
      "  File \"/home/astra/projects/hackathon/omsk_chempionat/model-predict/yolov5/detect.py\", line 258, in <module>\n",
      "    main(opt)\n",
      "  File \"/home/astra/projects/hackathon/omsk_chempionat/model-predict/yolov5/detect.py\", line 253, in main\n",
      "    run(**vars(opt))\n",
      "  File \"/home/astra/projects/hackathon/omsk_chempionat/model-predict/venv/lib/python3.10/site-packages/torch/autograd/grad_mode.py\", line 27, in decorate_context\n",
      "    return func(*args, **kwargs)\n",
      "  File \"/home/astra/projects/hackathon/omsk_chempionat/model-predict/yolov5/detect.py\", line 108, in run\n",
      "    dataset = LoadImages(source, img_size=imgsz, stride=stride, auto=pt, vid_stride=vid_stride)\n",
      "  File \"/home/astra/projects/hackathon/omsk_chempionat/model-predict/yolov5/utils/dataloaders.py\", line 270, in __init__\n",
      "    assert self.nf > 0, f'No images or videos found in {p}. ' \\\n",
      "AssertionError: No images or videos found in /home/astra/projects/hackathon/omsk_chempionat/model-predict/crop. Supported formats are:\n",
      "images: ('bmp', 'dng', 'jpeg', 'jpg', 'mpo', 'png', 'tif', 'tiff', 'webp', 'pfm')\n",
      "videos: ('asf', 'avi', 'gif', 'm4v', 'mkv', 'mov', 'mp4', 'mpeg', 'mpg', 'ts', 'wmv')\n"
     ]
    }
   ],
   "source": [
    "!python yolov5/detect.py --weights ../best.pt --source crop/ --imgsz 256 256 --save-txt --project result/"
   ]
  },
  {
   "cell_type": "code",
   "execution_count": null,
   "id": "f61838b2",
   "metadata": {},
   "outputs": [],
   "source": [
    "def get_files(files_dir: Path, suff: str = 'png') -> List[Path]:\n",
    "    return sorted(Path(files_dir).glob(f'*.{suff}'))"
   ]
  },
  {
   "cell_type": "code",
   "execution_count": null,
   "id": "c6f00a98",
   "metadata": {},
   "outputs": [],
   "source": [
    "labels_list = get_files(labels)"
   ]
  },
  {
   "cell_type": "code",
   "execution_count": null,
   "id": "e8de871e",
   "metadata": {},
   "outputs": [],
   "source": [
    "def str_to_float(labels_list: list[list[str]]) -> list[list[float]]:\n",
    "    float_labels = []\n",
    "    for label in labels_list:\n",
    "        int_label = [float(x) for x in label]\n",
    "        float_labels.append(int_label)\n",
    "    return float_labels"
   ]
  },
  {
   "cell_type": "code",
   "execution_count": null,
   "id": "83656731",
   "metadata": {},
   "outputs": [],
   "source": [
    "def read_txt(label_file: Path) -> list[list[float]]:\n",
    "    # функция возвращает список боксов с координатами в формате\n",
    "    # [номер класса объекта] [x - центр] [y -центр] [ширина от центра] [высота от центра]\n",
    "    # значения координат в диапазоне от 0 до 1 (доля от общих рамзеров картинки)\n",
    "    with open(label_file, 'r') as labels:\n",
    "        labels_list = labels.readlines()\n",
    "        labels_list = [row.replace('\\n', '') for row in labels_list]\n",
    "        labels_list = [row.split(' ') for row in labels_list]\n",
    "        return str_to_float(labels_list)\n",
    "        "
   ]
  },
  {
   "cell_type": "code",
   "execution_count": null,
   "id": "d7226364",
   "metadata": {},
   "outputs": [],
   "source": [
    "def fraction_to_pixel(labels: list[list[float]], size: tuple[int, int] = (256,256), x: int, y: int) -> list[list[int]]:\n",
    "    width, height = size\n",
    "    width = width + x\n",
    "    height = height + y\n",
    "    _, x_center, y_center, obj_width, obj_height = labels\n",
    "    x_center = x_center * width\n",
    "    obj_width = obj_width * width\n",
    "    y_center = y_center * height\n",
    "    obj_height = obj_height * height\n",
    "    radius = int((obj_width + obj_height) / 2)\n",
    "    return [x_center, y_center, radius]"
   ]
  },
  {
   "cell_type": "code",
   "execution_count": null,
   "id": "816c6a99",
   "metadata": {},
   "outputs": [],
   "source": [
    "def get_x_y(label_file: Path) -> tuple[int, int]:\n",
    "    # .x.%03d.y.%03d.jpg\n",
    "    name = label_file.stem\n",
    "    name_list = name.split('.')\n",
    "    x_min = name_list[2]\n",
    "    y_min = name_list[4]\n",
    "    return x_min, y_min"
   ]
  },
  {
   "cell_type": "code",
   "execution_count": null,
   "id": "4bdbf281",
   "metadata": {},
   "outputs": [],
   "source": [
    "for label_file in labels_list:\n",
    "    labels = read_txt(label_file)\n",
    "    x_min, y_min = get_x_y(label_file)\n",
    "    pixel_labels = fraction_to_pixel(labels, x=x_min, y=y_min)\n",
    "    break"
   ]
  }
 ],
 "metadata": {
  "kernelspec": {
   "display_name": "Python 3 (ipykernel)",
   "language": "python",
   "name": "python3"
  },
  "language_info": {
   "codemirror_mode": {
    "name": "ipython",
    "version": 3
   },
   "file_extension": ".py",
   "mimetype": "text/x-python",
   "name": "python",
   "nbconvert_exporter": "python",
   "pygments_lexer": "ipython3",
   "version": "3.10.0"
  }
 },
 "nbformat": 4,
 "nbformat_minor": 5
}
