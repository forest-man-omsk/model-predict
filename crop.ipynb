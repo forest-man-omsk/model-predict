{
 "cells": [
  {
   "cell_type": "code",
   "execution_count": 2,
   "id": "6a7bedfd",
   "metadata": {},
   "outputs": [],
   "source": [
    "from pathlib import Path\n",
    "from typing import List\n",
    "from PIL import Image"
   ]
  },
  {
   "cell_type": "code",
   "execution_count": 3,
   "id": "f1ed13ee",
   "metadata": {},
   "outputs": [],
   "source": [
    "sample = Path('../test')\n",
    "crop_dir = Path('crop')\n"
   ]
  },
  {
   "cell_type": "code",
   "execution_count": 4,
   "id": "604af4f9",
   "metadata": {},
   "outputs": [
    {
     "name": "stdout",
     "output_type": "stream",
     "text": [
      "crop\t    omsk_predict.ipynb\tpyproject.toml\tresult\tyolov5\r\n",
      "crop.ipynb  poetry.lock\t\tREADME.md\tvenv\r\n"
     ]
    }
   ],
   "source": [
    "!ls"
   ]
  },
  {
   "cell_type": "code",
   "execution_count": 6,
   "id": "d7d86f2c",
   "metadata": {},
   "outputs": [],
   "source": [
    "def get_files(files_dir: Path, suff: str = 'png') -> List[Path]:\n",
    "    return sorted(Path(files_dir).glob(f'*.{suff}'))"
   ]
  },
  {
   "cell_type": "code",
   "execution_count": 7,
   "id": "0718fb0e",
   "metadata": {},
   "outputs": [],
   "source": [
    "sample_list = get_files(sample, 'JPG')"
   ]
  },
  {
   "cell_type": "code",
   "execution_count": 8,
   "id": "9a60ab76",
   "metadata": {},
   "outputs": [],
   "source": [
    "\n",
    "def crop_image(infile: Path, chopsize: int, crop_dir: Path):\n",
    "   img = Image.open(infile)\n",
    "   width, height = img.size\n",
    "\n",
    "   # Save Chops of original image\n",
    "   for x0 in range(0, width, chopsize):\n",
    "      for y0 in range(0, height, chopsize):\n",
    "         box = (x0, y0,\n",
    "               x0+chopsize if x0+chopsize <  width else  width - 1,\n",
    "               y0+chopsize if y0+chopsize < height else height - 1)\n",
    "         #print('%s %s' % (infile, box))\n",
    "         file_name = crop_dir / infile.stem\n",
    "         img.crop(box).save('%s.x.%03d.y.%03d.jpg' % (file_name, x0, y0))"
   ]
  },
  {
   "cell_type": "code",
   "execution_count": null,
   "id": "8d3f28d4",
   "metadata": {},
   "outputs": [],
   "source": [
    "for image in sample_list:\n",
    "    size = 256\n",
    "    crop_image(image, size, crop_dir)"
   ]
  },
  {
   "cell_type": "code",
   "execution_count": null,
   "id": "7a95d5a3",
   "metadata": {},
   "outputs": [],
   "source": []
  }
 ],
 "metadata": {
  "kernelspec": {
   "display_name": "Python 3 (ipykernel)",
   "language": "python",
   "name": "python3"
  },
  "language_info": {
   "codemirror_mode": {
    "name": "ipython",
    "version": 3
   },
   "file_extension": ".py",
   "mimetype": "text/x-python",
   "name": "python",
   "nbconvert_exporter": "python",
   "pygments_lexer": "ipython3",
   "version": "3.10.0"
  }
 },
 "nbformat": 4,
 "nbformat_minor": 5
}
